{
 "cells": [
  {
   "cell_type": "markdown",
   "id": "bc134dca",
   "metadata": {},
   "source": [
    "**Create Qiskit QuantumCircuit from Braket Circuit objects!**\n",
    "\n",
    "The implementation should be able to handle the Braket circuit containing the following appropriately:\n",
    "Supported gates\n",
    "Supported result types and observables\n",
    "Supported noise instructions\n",
    "Verbatim blocks\n",
    "The implementation should be accompanied by unit tests with full coverage."
   ]
  },
  {
   "cell_type": "code",
   "execution_count": null,
   "id": "7b61e612",
   "metadata": {},
   "outputs": [],
   "source": [
    "import qiskit\n",
    "from qiskit import QuantumCircuit\n",
    "from qiskit.circuit.library import reset, initialize\n",
    "from braket.circuits import Circuit as BraketCircuit\n",
    "from braket.circuits import instr\n",
    "from braket.circuits.result_types import ResultType"
   ]
  },
  {
   "cell_type": "code",
   "execution_count": null,
   "id": "8794e0f4",
   "metadata": {},
   "outputs": [],
   "source": [
    "def from_braket_circuit(circuit: Circuit) -> QuantumCircuit:\n",
    "    # Create an empty Qiskit circuit\n",
    "    qiskit_circuit = QuantumCircuit(Circuit.qubit_count)\n",
    "\n",
    "    # Convert Braket gates to Qiskit gates\n",
    "    for braket_instruction in Circuit.instructions:\n",
    "        if isinstance(braket_instruction, instr.Gate):\n",
    "            qiskit_circuit.append(convert_braket_gate(braket_instruction), braket_instruction.targets)\n",
    "        elif isinstance(braket_instruction, instr.Verb):\n",
    "            qiskit_circuit.append(convert_braket_verbatim(braket_instruction), braket_instruction.targets)\n",
    "            \n",
    "     # Add measurements and result types\n",
    "    for result_type in Circuit.result_types:\n",
    "        if result_type == ResultType.Probability:\n",
    "            qiskit_circuit.measure_all()\n",
    "        elif result_type == ResultType.Amplitude:\n",
    "            qiskit_circuit.barrier()\n",
    "        elif result_type == ResultType.Expectation:\n",
    "            observable = braket_circuit.get_observable_instructions()[0]\n",
    "            qiskit_circuit.append(convert_braket_observable(observable), observable.targets)\n",
    "\n",
    "    return qiskit_circuit"
   ]
  },
  {
   "cell_type": "code",
   "execution_count": null,
   "id": "bcf38ca8",
   "metadata": {},
   "outputs": [],
   "source": [
    "def convert_braket_gate(braket_gate):\n",
    "    if braket_gate.name == 'X':\n",
    "        return qiskit.circuit.library.XGate()\n",
    "    elif braket_gate.name == 'Y':\n",
    "        return qiskit.circuit.library.YGate()\n",
    "    elif braket_gate.name == 'Z':\n",
    "        return qiskit.circuit.library.ZGate()\n",
    "    elif braket_gate.name == 'H':\n",
    "        return qiskit.circuit.library.HGate()\n",
    "    elif braket_gate.name == 'CNOT':\n",
    "        return qiskit.circuit.library.CXGate()"
   ]
  },
  {
   "cell_type": "code",
   "execution_count": null,
   "id": "d0faf83b",
   "metadata": {},
   "outputs": [],
   "source": [
    "def convert_braket_observable(braket_observable):\n",
    "    if braket_observable.name == 'PauliX':\n",
    "        return qiskit.circuit.library.PauliX()\n",
    "    elif braket_observable.name == 'PauliY':\n",
    "        return qiskit.circuit.library.PauliY()\n",
    "    elif braket_observable.name == 'PauliZ':\n",
    "        return qiskit.circuit.library.PauliZ()\n",
    "\n",
    "\n",
    "def convert_braket_verbatim(braket_verbatim):\n",
    "    if braket_verbatim.name == 'RESET':\n",
    "        return reset.Reset()\n",
    "    elif braket_verbatim.name == 'INITIALIZE':\n",
    "        return initialize.Initialize(braket_verbatim.params[0].tolist())"
   ]
  },
  {
   "cell_type": "code",
   "execution_count": null,
   "id": "7f711055",
   "metadata": {},
   "outputs": [],
   "source": [
    "# Unit Tests\n",
    "def test_braket_to_qiskit():\n",
    "    # Create a Braket circuit object\n",
    "    braket_circuit = BraketCircuit().h(0).cx(0, 1).h(1).x(0).z(1).m([0, 1])\n",
    "\n",
    "    # Convert Braket circuit to Qiskit circuit\n",
    "    qiskit_circuit = braket_to_qiskit(braket_circuit)\n",
    "\n",
    "    # Verify the gates and measurements in Qiskit circuit\n",
    "    assert isinstance(qiskit_circuit[0], qiskit.circuit.library.HGate)\n",
    "    assert isinstance(qiskit_circuit[1], qiskit.circuit.library.CXGate)\n",
    "    assert isinstance(qiskit_circuit[2], qiskit.circuit.library.HGate)\n",
    "    assert isinstance(qiskit_circuit[3], qiskit.circuit.library.XGate)\n",
    "    assert isinstance(qiskit_circuit[4], qiskit.circuit.library.ZGate)\n",
    "    assert qiskit_circuit.num_qubits == 2\n",
    "    assert qiskit_circuit.num_clbits == 2\n",
    "    assert qiskit_circuit.count_ops() == {'h': 2, 'cx': 1, 'x': 1, 'z': 1, 'measure': 2}\n",
    "\n",
    "    print(\"Braket to Qiskit conversion successful.\")\n",
    "\n",
    "\n",
    "# Run unit tests\n",
    "test_braket_to_qiskit()\n"
   ]
  }
 ],
 "metadata": {
  "kernelspec": {
   "display_name": "Python 3 (ipykernel)",
   "language": "python",
   "name": "python3"
  },
  "language_info": {
   "codemirror_mode": {
    "name": "ipython",
    "version": 3
   },
   "file_extension": ".py",
   "mimetype": "text/x-python",
   "name": "python",
   "nbconvert_exporter": "python",
   "pygments_lexer": "ipython3",
   "version": "3.11.2"
  }
 },
 "nbformat": 4,
 "nbformat_minor": 5
}
